{
  "cells": [
    {
      "cell_type": "markdown",
      "metadata": {
        "id": "view-in-github",
        "colab_type": "text"
      },
      "source": [
        "<a href=\"https://colab.research.google.com/github/gloammer/Neural-networks/blob/main/Lab1.ipynb\" target=\"_parent\"><img src=\"https://colab.research.google.com/assets/colab-badge.svg\" alt=\"Open In Colab\"/></a>"
      ]
    },
    {
      "cell_type": "code",
      "execution_count": null,
      "metadata": {
        "id": "-UGRH0ZPDXfu"
      },
      "outputs": [],
      "source": [
        "%matplotlib inline\n",
        "\n",
        "import pandas as pd\n",
        "import numpy as np\n",
        "from matplotlib import pyplot as plt\n",
        "import seaborn as sns\n",
        "\n",
        "from sklearn import model_selection\n",
        "\n",
        "from sklearn.metrics import classification_report, confusion_matrix, roc_curve, roc_auc_score,auc, accuracy_score\n",
        "\n",
        "from sklearn.preprocessing import StandardScaler, MinMaxScaler\n",
        "\n",
        "from sklearn.linear_model import LogisticRegression\n",
        "\n",
        "from sklearn.model_selection import train_test_split\n",
        "\n",
        "from sklearn import datasets"
      ]
    },
    {
      "cell_type": "code",
      "execution_count": null,
      "metadata": {
        "id": "UjT-XJPlCcDC"
      },
      "outputs": [],
      "source": [
        "import tensorflow as tf\n",
        "\n",
        "from tensorflow.keras.models import Sequential, load_model\n",
        "\n",
        "from tensorflow.keras.layers import Dense, Dropout, Flatten\n",
        "\n",
        "from tensorflow.keras.layers import Conv2D, MaxPooling2D\n",
        "\n",
        "from tensorflow.keras.utils import to_categorical\n",
        "from tensorflow.keras.applications import VGG16"
      ]
    },
    {
      "cell_type": "code",
      "execution_count": null,
      "metadata": {
        "id": "Sy1PC-1QCW57"
      },
      "outputs": [],
      "source": [
        "import cv2\n",
        "import os\n",
        "import glob\n",
        "import gc\n",
        "\n",
        "def lire_images(img_dir, xdim, ydim, nmax=5000) :\n",
        "    label = 0\n",
        "    label_names = []\n",
        "    X = []\n",
        "    y=[]\n",
        "    for dirname in os.listdir(img_dir):\n",
        "        print(dirname)\n",
        "        label_names.append(dirname)\n",
        "        data_path = os.path.join(img_dir + \"/\" + dirname,'**')\n",
        "        print(data_path)\n",
        "        files = [os.path.normpath(i) for i in glob.glob(data_path)]\n",
        "        print(files)\n",
        "        n=0\n",
        "        for f1 in files:\n",
        "            if n>nmax : break\n",
        "            img = cv2.imread(f1)\n",
        "            img = cv2.cvtColor(img, cv2.COLOR_BGR2RGB)\n",
        "            img = cv2.resize(img, (xdim,ydim))\n",
        "            X.append(np.array(img))\n",
        "            y.append(label)\n",
        "            n=n+1\n",
        "        print(n,' images lues')\n",
        "        label = label+1\n",
        "    X = np.array(X)\n",
        "    y = np.array(y)\n",
        "    gc.collect()\n",
        "    return X,y, label, label_names\n"
      ]
    },
    {
      "cell_type": "code",
      "execution_count": null,
      "metadata": {
        "id": "8PViz5D9DisY"
      },
      "outputs": [],
      "source": [
        "from google.colab import drive\n",
        "drive.mount('/content/drive')\n",
        "X,y,Nombre_classes,Classes = lire_images(\"/content/drive/My Drive/training_set/training_set\", 224, 224, 1000)"
      ]
    },
    {
      "cell_type": "code",
      "execution_count": null,
      "metadata": {
        "id": "c_NHLXQYD0dS"
      },
      "outputs": [],
      "source": [
        "Nombre_classes"
      ]
    },
    {
      "cell_type": "code",
      "execution_count": null,
      "metadata": {
        "id": "6CmlmhvOD2uT"
      },
      "outputs": [],
      "source": [
        "Classes"
      ]
    },
    {
      "cell_type": "code",
      "execution_count": null,
      "metadata": {
        "id": "NcaoVPMSD4LX"
      },
      "outputs": [],
      "source": [
        "import random\n",
        "plt.figure(figsize=(10,20))\n",
        "for i in range(0,49) :\n",
        "    plt.subplot(10,5,i+1)\n",
        "    j = random.randint(0,len(X))\n",
        "    plt.axis('off')\n",
        "    plt.imshow(X[j])\n",
        "    plt.title(Classes[y[j]])"
      ]
    },
    {
      "cell_type": "code",
      "execution_count": null,
      "metadata": {
        "id": "fUMsWgk3ER7a"
      },
      "outputs": [],
      "source": [
        "y = to_categorical(y)"
      ]
    },
    {
      "cell_type": "code",
      "execution_count": null,
      "metadata": {
        "id": "yLkM47S9EUpI"
      },
      "outputs": [],
      "source": [
        "y"
      ]
    },
    {
      "cell_type": "code",
      "execution_count": null,
      "metadata": {
        "id": "C2zJRnPUEWdT"
      },
      "outputs": [],
      "source": [
        "X.shape"
      ]
    },
    {
      "cell_type": "code",
      "execution_count": null,
      "metadata": {
        "id": "vo0DJzj9EYqV"
      },
      "outputs": [],
      "source": [
        "X = X / 255"
      ]
    },
    {
      "cell_type": "code",
      "execution_count": null,
      "metadata": {
        "id": "DATe3xk7EaUb"
      },
      "outputs": [],
      "source": [
        "X_train, X_test, y_train, y_test = train_test_split(X, y, test_size=0.1, random_state=1)"
      ]
    },
    {
      "cell_type": "code",
      "execution_count": null,
      "metadata": {
        "id": "PxpQwqfJHwRE"
      },
      "outputs": [],
      "source": [
        "y_test"
      ]
    },
    {
      "cell_type": "code",
      "execution_count": null,
      "metadata": {
        "id": "NVbmx0jIEdCr"
      },
      "outputs": [],
      "source": [
        "del X,y"
      ]
    },
    {
      "cell_type": "code",
      "execution_count": null,
      "metadata": {
        "id": "oXs7M8UvEfK4"
      },
      "outputs": [],
      "source": [
        "model = Sequential()\n",
        "model.add(Conv2D(128, (5, 5), input_shape=(224, 224, 3), activation='relu'))\n",
        "\n",
        "model.add(Flatten())\n",
        "model.add(Dense(Nombre_classes, activation='softmax'))\n",
        "\n",
        "model.compile(loss='categorical_crossentropy', optimizer='adam', metrics=['accuracy'])"
      ]
    },
    {
      "cell_type": "code",
      "execution_count": null,
      "metadata": {
        "id": "_GGdkgiPEhYE"
      },
      "outputs": [],
      "source": [
        "model.summary()\n"
      ]
    },
    {
      "cell_type": "code",
      "execution_count": null,
      "metadata": {
        "id": "2DQtj857EjdO"
      },
      "outputs": [],
      "source": [
        "train = model.fit(X_train, y_train, validation_data=(X_test, y_test), epochs=1, verbose=1)"
      ]
    },
    {
      "cell_type": "code",
      "execution_count": null,
      "metadata": {
        "id": "sggS8VyLElff"
      },
      "outputs": [],
      "source": [
        "# Test\n",
        "scores = model.evaluate(X_test, y_test, verbose=0)\n",
        "print(\"Score : %.2f%%\" % (scores[1]*100))"
      ]
    },
    {
      "cell_type": "code",
      "execution_count": null,
      "metadata": {
        "id": "qAqV7A15EpCE"
      },
      "outputs": [],
      "source": [
        "\n",
        "print(X_test)"
      ]
    },
    {
      "cell_type": "code",
      "execution_count": null,
      "metadata": {
        "id": "0xxCqwMFHH8D"
      },
      "outputs": [],
      "source": [
        "def plot_scores(train) :\n",
        "    accuracy = train.history['accuracy']\n",
        "    val_accuracy = train.history['val_accuracy']\n",
        "    epochs = range(len(accuracy))\n",
        "    plt.plot(epochs, accuracy, 'b', label='Обучение')\n",
        "    plt.plot(epochs, val_accuracy, 'r', label='Валидация')\n",
        "    plt.title('Точность обучения')\n",
        "    plt.legend()\n",
        "    plt.show()"
      ]
    },
    {
      "cell_type": "code",
      "execution_count": null,
      "metadata": {
        "id": "fguKUhIAHKiX"
      },
      "outputs": [],
      "source": [
        "plot_scores(train)"
      ]
    },
    {
      "cell_type": "code",
      "execution_count": null,
      "metadata": {
        "id": "U9FVQq0cHMtA"
      },
      "outputs": [],
      "source": [
        "predict_x=model.predict(X_test)\n",
        "y_cnn=np.argmax(predict_x,axis=1)"
      ]
    },
    {
      "cell_type": "code",
      "execution_count": null,
      "metadata": {
        "id": "ycWV-crOHOs5"
      },
      "outputs": [],
      "source": [
        "print(\"Верно\")\n",
        "plt.figure(figsize=(15,25))\n",
        "n_test = X_test.shape[0]\n",
        "i=1\n",
        "for j in range(len(X_test)) :\n",
        "    if (y_cnn[j] == y_test[j].argmax(axis=-1)) & (i<20):\n",
        "        plt.subplot(5,4,i)\n",
        "        plt.axis('off')\n",
        "        plt.imshow(X_test[j])\n",
        "        plt.title('%s / %s' % (Classes[y_cnn[j]], Classes[y_test[j].argmax(axis=-1)]))\n",
        "        i+=1"
      ]
    },
    {
      "cell_type": "code",
      "execution_count": null,
      "metadata": {
        "id": "fdsJJ-rvHQ74"
      },
      "outputs": [],
      "source": [
        "print(\"Неверно\")\n",
        "plt.figure(figsize=(15,25))\n",
        "n_test = X_test.shape[0]\n",
        "i=1\n",
        "for j in range(len(X_test)) :\n",
        "    if (y_cnn[j] != y_test[j].argmax(axis=-1)) & (i<20):\n",
        "        plt.subplot(5,4,i)\n",
        "        plt.axis('off')\n",
        "        plt.imshow(X_test[j])\n",
        "        plt.title('%s / %s' % (Classes[y_cnn[j]], Classes[y_test[j].argmax(axis=-1)]))\n",
        "        i+=1"
      ]
    },
    {
      "cell_type": "code",
      "execution_count": null,
      "metadata": {
        "id": "FwaDlKLBHT72"
      },
      "outputs": [],
      "source": [
        "# VGG16\n",
        "vgg16 = VGG16(weights='imagenet', include_top=False, input_shape=(224,224,3))\n",
        "vgg16.trainable = False"
      ]
    },
    {
      "cell_type": "code",
      "execution_count": null,
      "metadata": {
        "id": "FB4Sl3cbHXAk"
      },
      "outputs": [],
      "source": [
        "vgg16.summary()\n"
      ]
    },
    {
      "cell_type": "code",
      "execution_count": null,
      "metadata": {
        "id": "h_FZGV2YHany"
      },
      "outputs": [],
      "source": [
        "model2 = Sequential()\n",
        "model2.add(vgg16)\n",
        "model2.add(Flatten())\n",
        "model2.add(Dense(Nombre_classes, activation='softmax'))\n",
        "\n",
        "model2.compile(loss='categorical_crossentropy', optimizer='adam', metrics=['accuracy'])\n"
      ]
    },
    {
      "cell_type": "code",
      "execution_count": null,
      "metadata": {
        "id": "YaAv_1GMHfg4"
      },
      "outputs": [],
      "source": [
        "model2.summary()"
      ]
    },
    {
      "cell_type": "code",
      "execution_count": null,
      "metadata": {
        "id": "tVgy5alyHiLU"
      },
      "outputs": [],
      "source": [
        "train2 = model2.fit(X_train, y_train, validation_data=(X_test, y_test), epochs=3, verbose=1)\n"
      ]
    },
    {
      "cell_type": "code",
      "execution_count": null,
      "metadata": {
        "id": "OylPJ0oHHmrl"
      },
      "outputs": [],
      "source": [
        "# Test\n",
        "scores2 = model2.evaluate(X_test, y_test, verbose=0)\n",
        "print(\"Score : %.2f%%\" % (scores2[1]*100))\n",
        "\n",
        "plot_scores(train2)"
      ]
    },
    {
      "cell_type": "code",
      "execution_count": null,
      "metadata": {
        "id": "i-_XIQ03UKdw"
      },
      "outputs": [],
      "source": [
        "from PIL import Image\n",
        "from skimage.io import imread\n",
        "\n",
        "def predict(file_name):\n",
        "    img = Image.open(file_name)\n",
        "    img = img.convert(\"RGB\")\n",
        "    img = img.resize((224, 224))\n",
        "    img.save(file_name)\n",
        "\n",
        "    plt.figure(figsize=(4, 4))\n",
        "    plt.imshow(img)\n",
        "    plt.axis(\"off\")\n",
        "\n",
        "    img = imread(file_name)\n",
        "    img = tf.keras.applications.densenet.preprocess_input(img)\n",
        "    img = tf.expand_dims(img, axis=0)\n",
        "    probs = model2.predict(img)\n",
        "    for idx in probs.argsort()[0][::-1][:5]:\n",
        "        print(\"{:.2f}%\".format(probs[0][idx]*100), \"\\t\", Classes[idx])\n",
        "\n",
        "def download_and_predict(url, file_name):\n",
        "    os.system(\"curl -s {} -o {}\".format(url, file_name))\n",
        "    predict(file_name)"
      ]
    },
    {
      "cell_type": "code",
      "execution_count": null,
      "metadata": {
        "id": "aYsQP6HtDh2U"
      },
      "outputs": [],
      "source": [
        "download_and_predict(\"https://www.proplan.ru/sites/owners.proplan.ru/files/styles/article283x134/public/2020-03/alabaj-sredneaziatskaya-ovcharka_2.webp?itok=fK93lqNP\",\n",
        "                     \"dog.jpg\")"
      ]
    },
    {
      "cell_type": "code",
      "execution_count": null,
      "metadata": {
        "id": "niVFajdBLMjA"
      },
      "outputs": [],
      "source": [
        "download_and_predict(\"https://klike.net/uploads/posts/2019-06/1561011182_3.jpg\",\n",
        "                     \"cat.jpg\")"
      ]
    },
    {
      "cell_type": "code",
      "execution_count": null,
      "metadata": {
        "id": "L_D4X1QNLT0F"
      },
      "outputs": [],
      "source": [
        "download_and_predict(\"https://klike.net/uploads/posts/2019-06/medium/1561011184_2.jpg\",\n",
        "                     \"cat.jpg\")"
      ]
    },
    {
      "cell_type": "code",
      "execution_count": null,
      "metadata": {
        "id": "eSd_k7yOLdVN"
      },
      "outputs": [],
      "source": [
        "download_and_predict(\"https://www.proplan.ru/sites/owners.proplan.ru/files/styles/article283x134/public/2021-11/shutterstock_685424749_2.webp?itok=q-5TLv4u\", \"dog.jpg\")"
      ]
    }
  ],
  "metadata": {
    "colab": {
      "provenance": [],
      "include_colab_link": true
    },
    "kernelspec": {
      "display_name": "Python 3",
      "name": "python3"
    },
    "language_info": {
      "name": "python"
    }
  },
  "nbformat": 4,
  "nbformat_minor": 0
}